{
  "nbformat": 4,
  "nbformat_minor": 0,
  "metadata": {
    "colab": {
      "name": "CHP3_210412.ipynb",
      "provenance": []
    },
    "kernelspec": {
      "name": "python3",
      "display_name": "Python 3"
    },
    "language_info": {
      "name": "python"
    }
  },
  "cells": [
    {
      "cell_type": "markdown",
      "metadata": {
        "id": "kRf1o_NoWbMJ"
      },
      "source": [
        "# CHP3 - 제어문"
      ]
    },
    {
      "cell_type": "markdown",
      "metadata": {
        "id": "iZrA5kJwWiHz"
      },
      "source": [
        "## if문\n",
        "- 기본구조 \n",
        "- if 조건문:/n\n",
        "-    수행할 문장1\n",
        "-    수행할 문장2\n",
        "-    ...\n",
        "- else:\n",
        "-    수행할 문장A\n",
        "-    수행할 문장B\n",
        "-    ...\n",
        "- 들여쓰기는 같은 너비로\n",
        "## else 뒤엔 조건문이 없다!!!\n",
        "## else 뒤에 수행할 문장이 없다면 굳이 안써도 된다."
      ]
    },
    {
      "cell_type": "markdown",
      "metadata": {
        "id": "HBdnzSuYeB0h"
      },
      "source": [
        "### if 조건문의 조건문이란?\n",
        "- 조건문에 해당하는 것은 참 거짓을 판별할 수 있는 것.\n",
        "- a = true, if a : >>> a가 참이므로 다음 문장을 수행함.\n",
        "- x in s, x no in s >>> s엔 리스트, 튜플, 문자열, 딕셔너리 등이 올 수 있다. "
      ]
    },
    {
      "cell_type": "code",
      "metadata": {
        "id": "ZeJdD6SfWVOZ"
      },
      "source": [
        "a = {'taein' : 'babo'}\n",
        "b = 'taein'"
      ],
      "execution_count": 2,
      "outputs": []
    },
    {
      "cell_type": "code",
      "metadata": {
        "colab": {
          "base_uri": "https://localhost:8080/"
        },
        "id": "XwpLYe4-Waxp",
        "outputId": "d58f6b3d-0a71-478f-bff4-801a075700bf"
      },
      "source": [
        "'taein' in a"
      ],
      "execution_count": 2,
      "outputs": [
        {
          "output_type": "execute_result",
          "data": {
            "text/plain": [
              "True"
            ]
          },
          "metadata": {
            "tags": []
          },
          "execution_count": 2
        }
      ]
    },
    {
      "cell_type": "code",
      "metadata": {
        "colab": {
          "base_uri": "https://localhost:8080/"
        },
        "id": "aAdCNJ4jWavG",
        "outputId": "8715aa76-86d8-43b5-b27a-d2a3af6e807b"
      },
      "source": [
        "if 'taein' in a :\n",
        "  print('dictionary is available')"
      ],
      "execution_count": 3,
      "outputs": [
        {
          "output_type": "stream",
          "text": [
            "dictionary is available\n"
          ],
          "name": "stdout"
        }
      ]
    },
    {
      "cell_type": "code",
      "metadata": {
        "colab": {
          "base_uri": "https://localhost:8080/"
        },
        "id": "X_70uQIRe9Fm",
        "outputId": "6b226e0c-aaed-4b9b-b243-27802ffe0868"
      },
      "source": [
        "if 't' in b :\n",
        "  print('so amazing')"
      ],
      "execution_count": 6,
      "outputs": [
        {
          "output_type": "stream",
          "text": [
            "so amazing\n"
          ],
          "name": "stdout"
        }
      ]
    },
    {
      "cell_type": "markdown",
      "metadata": {
        "id": "zWBPI1r2e8fX"
      },
      "source": [
        "### elif\n",
        "- 기본구조\n",
        "- If <조건문>:\n",
        "-    <수행할 문장1> \n",
        "-    <수행할 문장2>\n",
        "-    ...\n",
        "- elif <조건문>:\n",
        "-    <수행할 문장1>\n",
        "-    <수행할 문장2>\n",
        "-    ...\n",
        "- elif <조건문>:\n",
        "-    <수행할 문장1>\n",
        "-    <수행할 문장2>\n",
        "-    ...\n",
        "-...\n",
        "- else:\n",
        "-   <수행할 문장1>\n",
        "-   <수행할 문장2>\n",
        "-   ... \n",
        "\n",
        "- elif는 이전 조건문이 거짓일 때 수행된다."
      ]
    },
    {
      "cell_type": "code",
      "metadata": {
        "colab": {
          "base_uri": "https://localhost:8080/"
        },
        "id": "-0Qd2ii0f9rZ",
        "outputId": "442b4978-aea7-434e-eeac-1b8973a7e73b"
      },
      "source": [
        "if 'b' in b :\n",
        "  print('if is true')\n",
        "elif 'z' in b :\n",
        "  print('elif is true')\n",
        "else :\n",
        "  print('else is true')"
      ],
      "execution_count": 18,
      "outputs": [
        {
          "output_type": "stream",
          "text": [
            "else is true\n"
          ],
          "name": "stdout"
        }
      ]
    },
    {
      "cell_type": "markdown",
      "metadata": {
        "id": "vnJVi_n-hskd"
      },
      "source": [
        "## 조건문을 간단히\n",
        "\n",
        "- if 조건문 : 수행할 문장\n",
        "- else : 수행할 문장.\n",
        "- 이렇게 줄바꾸어 들여쓰기 하지 않아도 한줄로 작성 가능하다.\n",
        "\n",
        "### 조건부 표현식\n",
        "\n",
        "- 조건문이 참인 경우 if 조건문 else 조건문이 거짓인 경우\n",
        "- 콜론 : 이나 다른 것 없이 간단히 한줄로 작성가능 \n"
      ]
    },
    {
      "cell_type": "code",
      "metadata": {
        "id": "zUQlBGZtWaqU"
      },
      "source": [
        "if 6 <= 5 : m = 'true' \n",
        "else : m = 'false'"
      ],
      "execution_count": 21,
      "outputs": []
    },
    {
      "cell_type": "code",
      "metadata": {
        "colab": {
          "base_uri": "https://localhost:8080/",
          "height": 34
        },
        "id": "6bx1Kjw6Wan-",
        "outputId": "db89ea0b-36b6-4ad6-922f-ab782522a3d4"
      },
      "source": [
        "m"
      ],
      "execution_count": 22,
      "outputs": [
        {
          "output_type": "execute_result",
          "data": {
            "application/vnd.google.colaboratory.intrinsic+json": {
              "type": "string"
            },
            "text/plain": [
              "'false'"
            ]
          },
          "metadata": {
            "tags": []
          },
          "execution_count": 22
        }
      ]
    },
    {
      "cell_type": "code",
      "metadata": {
        "id": "bKAf986RWalq"
      },
      "source": [
        "m = 'true' if 6>=5 else 'false'"
      ],
      "execution_count": 23,
      "outputs": []
    },
    {
      "cell_type": "code",
      "metadata": {
        "colab": {
          "base_uri": "https://localhost:8080/",
          "height": 34
        },
        "id": "9MY934tfWajY",
        "outputId": "d4b8c110-72e3-4dbb-92fd-5d6907937586"
      },
      "source": [
        "m"
      ],
      "execution_count": 24,
      "outputs": [
        {
          "output_type": "execute_result",
          "data": {
            "application/vnd.google.colaboratory.intrinsic+json": {
              "type": "string"
            },
            "text/plain": [
              "'true'"
            ]
          },
          "metadata": {
            "tags": []
          },
          "execution_count": 24
        }
      ]
    },
    {
      "cell_type": "markdown",
      "metadata": {
        "id": "q7X6rNZNjRKK"
      },
      "source": [
        "## While문\n",
        "\n",
        "- 조건문이 참인 동안 반복적으로 수행할 문장이 있을 때 사용한다.\n",
        "- while <조건문>:\n",
        "-    <수행할 문장1>\n",
        "-    <수행할 문장2>\n",
        "-    <수행할 문장3>\n",
        "-    ...\n",
        "\n",
        "### 무한루프\n",
        "- while문은 조건문이 참이면 계속 문장을 수행하므로 참인 값을 넣으면 무한히 문장을 수행한다.\n",
        "\n",
        "### break \n",
        "- 무한 루프가 아니더라도 루프를 빠져나오고 싶을 때에 break를 넣어 빠져나올 수 있다. \n",
        "\n",
        "### continue\n",
        "- while문 안의 문장을 수행할 때 입력 조건을 검사해서 조건에 맞지 않으면 while문을 빠져나간다. 그런데 프로그래밍을 하다 보면 while문을 빠져나가지 않고 while문의 맨 처음(조건문)으로 다시 돌아가게 만들고 싶은 경우가 생기게 된다. 이때 사용하는 것이 바로 continue문이다.\n",
        "- continue 시점에서 다시 처음으로 돌아간다. "
      ]
    },
    {
      "cell_type": "code",
      "metadata": {
        "colab": {
          "base_uri": "https://localhost:8080/"
        },
        "id": "k_FOw-r0WahR",
        "outputId": "21c89eb5-c562-4bed-c868-583bb9130ab0"
      },
      "source": [
        "a = 0\n",
        "while a <20:\n",
        "  a += 1\n",
        "  if a % 2 == 0: continue\n",
        "  print(a)\n",
        "  if a == 15 : break"
      ],
      "execution_count": 30,
      "outputs": [
        {
          "output_type": "stream",
          "text": [
            "1\n",
            "3\n",
            "5\n",
            "7\n",
            "9\n",
            "11\n",
            "13\n",
            "15\n"
          ],
          "name": "stdout"
        }
      ]
    },
    {
      "cell_type": "code",
      "metadata": {
        "colab": {
          "base_uri": "https://localhost:8080/"
        },
        "id": "l5sP8JJ5Waep",
        "outputId": "2f4483d7-4dcb-4835-8e0c-4bf363444a40"
      },
      "source": [
        "if 1  : print('ya ho')"
      ],
      "execution_count": 33,
      "outputs": [
        {
          "output_type": "stream",
          "text": [
            "ya ho\n"
          ],
          "name": "stdout"
        }
      ]
    },
    {
      "cell_type": "markdown",
      "metadata": {
        "id": "bREB4j9sTouv"
      },
      "source": [
        "## for문\n",
        "\n",
        "- for 객체 in 인덱스를 가질 수 있는 것( 리스트, 튜플, 문자열) :\n",
        "-   수행할 문장\n",
        "\n",
        "- for문 안에는 if문 while문이 몇 개가 들어가도 상관없다. "
      ]
    },
    {
      "cell_type": "code",
      "metadata": {
        "colab": {
          "base_uri": "https://localhost:8080/"
        },
        "id": "GpdEV3IaWacZ",
        "outputId": "1fee0e08-3faa-494c-fec8-885630dca999"
      },
      "source": [
        "for i in b : \n",
        "  print(i)"
      ],
      "execution_count": 36,
      "outputs": [
        {
          "output_type": "stream",
          "text": [
            "t\n",
            "a\n",
            "e\n",
            "i\n",
            "n\n"
          ],
          "name": "stdout"
        }
      ]
    },
    {
      "cell_type": "code",
      "metadata": {
        "colab": {
          "base_uri": "https://localhost:8080/"
        },
        "id": "S8-7X_-EWaaQ",
        "outputId": "83b41005-f9ce-42a5-fd73-a6c3bbb8bf1b"
      },
      "source": [
        "for i in b : \n",
        "  if 't' in i :\n",
        "    print(i)"
      ],
      "execution_count": 4,
      "outputs": [
        {
          "output_type": "stream",
          "text": [
            "t\n"
          ],
          "name": "stdout"
        }
      ]
    },
    {
      "cell_type": "markdown",
      "metadata": {
        "id": "m9Iao8W7V6Vs"
      },
      "source": [
        "### continue\n",
        "\n",
        "- while문 처럼 continue 사용 가능하고 똑같이 continue 시점에 처음으로 돌아간다. "
      ]
    },
    {
      "cell_type": "code",
      "metadata": {
        "colab": {
          "base_uri": "https://localhost:8080/"
        },
        "id": "SnQjhYjsWaYJ",
        "outputId": "0dc1aa6a-ecd2-4162-c14d-e55d584d5f0e"
      },
      "source": [
        "marks = [90, 25, 67, 45, 80]\n",
        "\n",
        "number = 0 \n",
        "for mark in marks: \n",
        "    number = number +1 \n",
        "    if mark < 60:\n",
        "        continue \n",
        "    print(\"%d번 학생 축하합니다. 합격입니다. \" % number)"
      ],
      "execution_count": 5,
      "outputs": [
        {
          "output_type": "stream",
          "text": [
            "1번 학생 축하합니다. 합격입니다. \n",
            "3번 학생 축하합니다. 합격입니다. \n",
            "5번 학생 축하합니다. 합격입니다. \n"
          ],
          "name": "stdout"
        }
      ]
    },
    {
      "cell_type": "markdown",
      "metadata": {
        "id": "5Yl3vjS_W8Rt"
      },
      "source": [
        "#### range 함수\n",
        "\n",
        "- range(시작할 숫자, 끝날 숫자) >>> 끝날 숫자는 포함되지 않음. \n",
        "- 파이썬에서 끝 숫자는 항상 포함되지않음 a<=, <b 까지\n",
        "\n",
        "- range(a) = range(0,a) 와 같다"
      ]
    },
    {
      "cell_type": "code",
      "metadata": {
        "colab": {
          "base_uri": "https://localhost:8080/"
        },
        "id": "pKh9bst4WaWD",
        "outputId": "720b6ac5-ce49-4eca-c27f-d0090822f379"
      },
      "source": [
        "marks = [90, 25, 67, 45, 80]\n",
        "for number in range(len(marks)):\n",
        "    if marks[number] < 60: \n",
        "        continue\n",
        "    print(\"%d번 학생 축하합니다. 합격입니다.\" % (number+1))\n",
        "\n",
        "# len(marks) 가 길이가 5 이므로 range(len(marks)) = range(0,5) 와 같다. "
      ],
      "execution_count": 8,
      "outputs": [
        {
          "output_type": "stream",
          "text": [
            "1번 학생 축하합니다. 합격입니다.\n",
            "3번 학생 축하합니다. 합격입니다.\n",
            "5번 학생 축하합니다. 합격입니다.\n"
          ],
          "name": "stdout"
        }
      ]
    },
    {
      "cell_type": "code",
      "metadata": {
        "colab": {
          "base_uri": "https://localhost:8080/"
        },
        "id": "2brIYkjOWaTz",
        "outputId": "64da9ab0-98aa-4d2c-ca17-1322e8cfa134"
      },
      "source": [
        "range(5)"
      ],
      "execution_count": 7,
      "outputs": [
        {
          "output_type": "execute_result",
          "data": {
            "text/plain": [
              "range(0, 5)"
            ]
          },
          "metadata": {
            "tags": []
          },
          "execution_count": 7
        }
      ]
    },
    {
      "cell_type": "markdown",
      "metadata": {
        "id": "4RoZ9bngX391"
      },
      "source": [
        "#### 리스트 내포 사용\n",
        "\n",
        "- 리스트 안에 for문을 담을 수 있다. 리스트 원소가 차례대로 알아서 저장됨.\n",
        "- result = [num * 3 for num in a]\n",
        "\n",
        "- 또는 for문 안에 if 조건부 표현식을 넣어서 조건을 더 만들 수도 있다.\n",
        "- for문 안에 for문이 여러 개 들어가도 된다. \n",
        "\n",
        "- [표현식 for 항목 in 반복가능객체 if 조건문]"
      ]
    },
    {
      "cell_type": "code",
      "metadata": {
        "id": "KwUp3iTVWaRk"
      },
      "source": [
        "# [표현식 for 항목1 in 반복가능객체1 if 조건문1\n",
        "#        for 항목2 in 반복가능객체2 if 조건문2\n",
        "#        ...\n",
        "#        for 항목n in 반복가능객체n if 조건문n]"
      ],
      "execution_count": 12,
      "outputs": []
    },
    {
      "cell_type": "code",
      "metadata": {
        "colab": {
          "base_uri": "https://localhost:8080/"
        },
        "id": "fePTNZD4WaPU",
        "outputId": "fc934ecf-9634-4e2a-ad27-dc39d1e1d303"
      },
      "source": [
        ">>> result = [x*y for x in range(2,10)\n",
        "...               for y in range(1,10)]\n",
        ">>> print(result)"
      ],
      "execution_count": 13,
      "outputs": [
        {
          "output_type": "stream",
          "text": [
            "[2, 4, 6, 8, 10, 12, 14, 16, 18, 3, 6, 9, 12, 15, 18, 21, 24, 27, 4, 8, 12, 16, 20, 24, 28, 32, 36, 5, 10, 15, 20, 25, 30, 35, 40, 45, 6, 12, 18, 24, 30, 36, 42, 48, 54, 7, 14, 21, 28, 35, 42, 49, 56, 63, 8, 16, 24, 32, 40, 48, 56, 64, 72, 9, 18, 27, 36, 45, 54, 63, 72, 81]\n"
          ],
          "name": "stdout"
        }
      ]
    },
    {
      "cell_type": "code",
      "metadata": {
        "id": "Gjpq74ERWaNK"
      },
      "source": [
        ""
      ],
      "execution_count": null,
      "outputs": []
    },
    {
      "cell_type": "code",
      "metadata": {
        "id": "oCxGRtYOWaK4"
      },
      "source": [
        ""
      ],
      "execution_count": null,
      "outputs": []
    },
    {
      "cell_type": "code",
      "metadata": {
        "id": "OIr-e-VyWaIf"
      },
      "source": [
        ""
      ],
      "execution_count": null,
      "outputs": []
    },
    {
      "cell_type": "code",
      "metadata": {
        "id": "r6w5EEe0WaGR"
      },
      "source": [
        ""
      ],
      "execution_count": null,
      "outputs": []
    }
  ]
}