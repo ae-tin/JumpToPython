{
  "nbformat": 4,
  "nbformat_minor": 0,
  "metadata": {
    "colab": {
      "name": "CHP2_210408.ipynb",
      "provenance": [],
      "collapsed_sections": [],
      "machine_shape": "hm"
    },
    "kernelspec": {
      "name": "python3",
      "display_name": "Python 3"
    },
    "accelerator": "GPU"
  },
  "cells": [
    {
      "cell_type": "markdown",
      "metadata": {
        "id": "IF3Y5AuroD2I"
      },
      "source": [
        "#CHP2"
      ]
    },
    {
      "cell_type": "markdown",
      "metadata": {
        "id": "RVzv6NJs5TIO"
      },
      "source": [
        "## 문자열"
      ]
    },
    {
      "cell_type": "markdown",
      "metadata": {
        "id": "1FVlm10n7OG2"
      },
      "source": [
        "### 문자열 포맷팅\n",
        "- format()을 쓸 자리에 {0}을 넣어준다\n",
        "- 두 가지를 한꺼번에 넣으려면 인덱스처럼 바꿀 자리에 {0},{1},,,,을 차례로 넣고 format(첫번째, 두번째)로 치환.\n",
        "- {0} 같은 인덱스 대신 변수도 가능, 인덱스와 혼용가능 ex) '{0} days ago{end}'.format(num, end = '?') \n",
        "- format 안에 문자열은 따옴표 감싸줘야됨"
      ]
    },
    {
      "cell_type": "code",
      "metadata": {
        "colab": {
          "base_uri": "https://localhost:8080/",
          "height": 34
        },
        "id": "dTkdsEIY7NdP",
        "outputId": "1dbdc4cd-13ee-441f-c179-cae8113d607e"
      },
      "source": [
        "num = 'four'\n",
        "num2 = 4\n",
        "'I ate {0} apples'.format(num)\n"
      ],
      "execution_count": null,
      "outputs": [
        {
          "output_type": "execute_result",
          "data": {
            "application/vnd.google.colaboratory.intrinsic+json": {
              "type": "string"
            },
            "text/plain": [
              "'I ate four apples'"
            ]
          },
          "metadata": {
            "tags": []
          },
          "execution_count": 3
        }
      ]
    },
    {
      "cell_type": "code",
      "metadata": {
        "colab": {
          "base_uri": "https://localhost:8080/",
          "height": 34
        },
        "id": "VkcJ4kY-7rJu",
        "outputId": "69a1997c-1576-4fab-d8ce-878206c1abe1"
      },
      "source": [
        "'I ate {0} apples'.format(num2)"
      ],
      "execution_count": null,
      "outputs": [
        {
          "output_type": "execute_result",
          "data": {
            "application/vnd.google.colaboratory.intrinsic+json": {
              "type": "string"
            },
            "text/plain": [
              "'I ate 4 apples'"
            ]
          },
          "metadata": {
            "tags": []
          },
          "execution_count": 2
        }
      ]
    },
    {
      "cell_type": "code",
      "metadata": {
        "colab": {
          "base_uri": "https://localhost:8080/",
          "height": 34
        },
        "id": "s89sCnFv8a8Y",
        "outputId": "c65527a9-f7cc-4057-c8a6-ab88722a7d7b"
      },
      "source": [
        "when = '3 days ago'\n",
        "'I ate {0} apples {1}'.format(num, when)"
      ],
      "execution_count": null,
      "outputs": [
        {
          "output_type": "execute_result",
          "data": {
            "application/vnd.google.colaboratory.intrinsic+json": {
              "type": "string"
            },
            "text/plain": [
              "'I ate four apples 3 days ago'"
            ]
          },
          "metadata": {
            "tags": []
          },
          "execution_count": 4
        }
      ]
    },
    {
      "cell_type": "code",
      "metadata": {
        "colab": {
          "base_uri": "https://localhost:8080/",
          "height": 34
        },
        "id": "H_SkXqkx9aZO",
        "outputId": "4c342b9c-3058-4604-b4a0-9648fb413b72"
      },
      "source": [
        "'I ate {0} bananas {when}'.format(num2, when = '3 days ago')"
      ],
      "execution_count": null,
      "outputs": [
        {
          "output_type": "execute_result",
          "data": {
            "application/vnd.google.colaboratory.intrinsic+json": {
              "type": "string"
            },
            "text/plain": [
              "'I ate 4 bananas 3 days ago'"
            ]
          },
          "metadata": {
            "tags": []
          },
          "execution_count": 6
        }
      ]
    },
    {
      "cell_type": "markdown",
      "metadata": {
        "id": "uFnj6We4krY9"
      },
      "source": [
        "### f문자열 포맷팅\n",
        "- f문자열을 접두사처럼 붙여 포맷팅을 할 수 있다.\n",
        "- 미리 생성해놓은 변수를 가져다 쓸 수 있고, 딕셔너리도 가용가능하다. (딕셔너리는 안에 key를 가져올 때 쌍따옴표(\")를 붙여야 부를 수 있음)\n",
        "- format 함수와 같이 넣고 싶은 자리에 {} 대괄호를 써서 사용한다. "
      ]
    },
    {
      "cell_type": "code",
      "metadata": {
        "id": "eLlwltOCkptn"
      },
      "source": [
        "name = '강태인'\n",
        "age = 26\n",
        "taein = {'name' : '강태인', 'age' : 26}"
      ],
      "execution_count": null,
      "outputs": []
    },
    {
      "cell_type": "code",
      "metadata": {
        "colab": {
          "base_uri": "https://localhost:8080/",
          "height": 34
        },
        "id": "dOmpsbeHlTaa",
        "outputId": "2a3d0268-a785-43db-b9cb-8f09a11d3779"
      },
      "source": [
        "f'제 이름은 {name}이구요 나이는 {age}입니다. 잘부탁드립니다.'"
      ],
      "execution_count": null,
      "outputs": [
        {
          "output_type": "execute_result",
          "data": {
            "application/vnd.google.colaboratory.intrinsic+json": {
              "type": "string"
            },
            "text/plain": [
              "'제 이름은 강태인이구요 나이는 26입니다. 잘부탁드립니다.'"
            ]
          },
          "metadata": {
            "tags": []
          },
          "execution_count": 2
        }
      ]
    },
    {
      "cell_type": "code",
      "metadata": {
        "colab": {
          "base_uri": "https://localhost:8080/",
          "height": 34
        },
        "id": "K-7c42rZlTX_",
        "outputId": "ed14b5cc-b109-4a01-b22e-a851739c7068"
      },
      "source": [
        "f'제 이름은 {taein[\"name\"]}이구요 나이는 {taein[\"age\"]}입니다. 잘부탁드립니다.'"
      ],
      "execution_count": null,
      "outputs": [
        {
          "output_type": "execute_result",
          "data": {
            "application/vnd.google.colaboratory.intrinsic+json": {
              "type": "string"
            },
            "text/plain": [
              "'제 이름은 강태인이구요 나이는 26입니다. 잘부탁드립니다.'"
            ]
          },
          "metadata": {
            "tags": []
          },
          "execution_count": 7
        }
      ]
    },
    {
      "cell_type": "markdown",
      "metadata": {
        "id": "BK29phvIncoo"
      },
      "source": [
        "### 소수점 표현하기\n",
        "- 일반적으로 치환할 때의 소수점 치환은 %f를 쓴다. 소수점자리를 표현하려면 %와 f 중간에 ex) 4자리까지 -> %0.4f 이렇게 0.소수점자리로 표현해줌\n",
        "- format에서도 소수점 치환으로 {인덱스(만들어논 변수x, format안에 변수o) : 총자리수.소수점자리 f} 로 표현해준다. % 대신 이번 인덱스에 들어간다는 의미로 : 콜론을 쓰는 것 같다. 앞서 생성한 변수는 불가능하고 format 안에 변수로 지정해주면 가능 format(변수 = 소수)\n",
        "- 접두사처럼 쓰이는 f 문자열 포맷도 가능하다. 쓰려는 자리에 {변수 : 총자리수.소수점자리 f}"
      ]
    },
    {
      "cell_type": "code",
      "metadata": {
        "id": "2EQRHgvElTVo"
      },
      "source": [
        "a = 3.141592"
      ],
      "execution_count": null,
      "outputs": []
    },
    {
      "cell_type": "code",
      "metadata": {
        "colab": {
          "base_uri": "https://localhost:8080/",
          "height": 34
        },
        "id": "YsIZqrCcpOw1",
        "outputId": "7afe96f8-b317-4714-c82f-9b3dbe628e44"
      },
      "source": [
        "'원주율은 %f 입니다.' % a"
      ],
      "execution_count": null,
      "outputs": [
        {
          "output_type": "execute_result",
          "data": {
            "application/vnd.google.colaboratory.intrinsic+json": {
              "type": "string"
            },
            "text/plain": [
              "'원주율은 3.141592 입니다.'"
            ]
          },
          "metadata": {
            "tags": []
          },
          "execution_count": 9
        }
      ]
    },
    {
      "cell_type": "code",
      "metadata": {
        "colab": {
          "base_uri": "https://localhost:8080/",
          "height": 34
        },
        "id": "KvZlApczpcEG",
        "outputId": "706c5b7e-133c-4069-b32e-22487ae48114"
      },
      "source": [
        "'원주율은 %0.4f 입니다.' % a"
      ],
      "execution_count": null,
      "outputs": [
        {
          "output_type": "execute_result",
          "data": {
            "application/vnd.google.colaboratory.intrinsic+json": {
              "type": "string"
            },
            "text/plain": [
              "'원주율은 3.1416 입니다.'"
            ]
          },
          "metadata": {
            "tags": []
          },
          "execution_count": 21
        }
      ]
    },
    {
      "cell_type": "code",
      "metadata": {
        "colab": {
          "base_uri": "https://localhost:8080/",
          "height": 34
        },
        "id": "G2DmEDfRpcPy",
        "outputId": "ef23db57-a7c3-4ba1-bed5-9936eaa8f2c5"
      },
      "source": [
        "'원주율은 {0:0.4f}입니다.'.format(3.141592)"
      ],
      "execution_count": null,
      "outputs": [
        {
          "output_type": "execute_result",
          "data": {
            "application/vnd.google.colaboratory.intrinsic+json": {
              "type": "string"
            },
            "text/plain": [
              "'원주율은 3.1416입니다.'"
            ]
          },
          "metadata": {
            "tags": []
          },
          "execution_count": 22
        }
      ]
    },
    {
      "cell_type": "code",
      "metadata": {
        "colab": {
          "base_uri": "https://localhost:8080/",
          "height": 34
        },
        "id": "I0tpuGu4pt6e",
        "outputId": "0e8ee900-4ffe-44d1-cbdd-50cff8dbdabd"
      },
      "source": [
        "'원주율은 {b:0.4f}입니다.'.format(b = 3.141592)"
      ],
      "execution_count": null,
      "outputs": [
        {
          "output_type": "execute_result",
          "data": {
            "application/vnd.google.colaboratory.intrinsic+json": {
              "type": "string"
            },
            "text/plain": [
              "'원주율은 3.1416입니다.'"
            ]
          },
          "metadata": {
            "tags": []
          },
          "execution_count": 17
        }
      ]
    },
    {
      "cell_type": "code",
      "metadata": {
        "colab": {
          "base_uri": "https://localhost:8080/",
          "height": 34
        },
        "id": "Q0LEOECSptxQ",
        "outputId": "068bde04-5a72-4eac-a21e-38ffbda940e2"
      },
      "source": [
        "f'원주율은 {a}입니다'"
      ],
      "execution_count": null,
      "outputs": [
        {
          "output_type": "execute_result",
          "data": {
            "application/vnd.google.colaboratory.intrinsic+json": {
              "type": "string"
            },
            "text/plain": [
              "'원주율은 3.141592입니다'"
            ]
          },
          "metadata": {
            "tags": []
          },
          "execution_count": 18
        }
      ]
    },
    {
      "cell_type": "code",
      "metadata": {
        "colab": {
          "base_uri": "https://localhost:8080/",
          "height": 34
        },
        "id": "oKOX7IHSptsz",
        "outputId": "e38238f1-d1e2-4a56-d677-09a4fad5eece"
      },
      "source": [
        "f'원주율은 {a:0.4f}입니다.'"
      ],
      "execution_count": null,
      "outputs": [
        {
          "output_type": "execute_result",
          "data": {
            "application/vnd.google.colaboratory.intrinsic+json": {
              "type": "string"
            },
            "text/plain": [
              "'원주율은 3.1416입니다.'"
            ]
          },
          "metadata": {
            "tags": []
          },
          "execution_count": 20
        }
      ]
    },
    {
      "cell_type": "markdown",
      "metadata": {
        "id": "kVwPUU1kr1e5"
      },
      "source": [
        "## '문자열' 내장함수\n",
        "- 문자열 변수에만 가능"
      ]
    },
    {
      "cell_type": "markdown",
      "metadata": {
        "id": "3zcYqTJusCJo"
      },
      "source": [
        "### 문자열 세기 (count)\n",
        "- 그 문자가 몇 개 나오는지 문자 개수 세기\n",
        "\n",
        "### 문자열 위치 찾기 (find)\n",
        "- 문자열이 '처음'나온 위치 반환. 파이썬은 0부터 세기 때문에 참고.\n",
        "- 문자열이 없으면 -1 반환!\n",
        "\n",
        "### 문자열 위치 찾기2 ( index)\n",
        "- find랑 같으나 문자열 없으면 오류남"
      ]
    },
    {
      "cell_type": "code",
      "metadata": {
        "id": "zes0rfuPs4Mm"
      },
      "source": [
        "ti = 'my name is tae-in'"
      ],
      "execution_count": null,
      "outputs": []
    },
    {
      "cell_type": "code",
      "metadata": {
        "colab": {
          "base_uri": "https://localhost:8080/"
        },
        "id": "NaiLRTyps4JI",
        "outputId": "aa9524e9-d979-4d97-dca1-91112dfc1a38"
      },
      "source": [
        "ti.count('i')"
      ],
      "execution_count": null,
      "outputs": [
        {
          "output_type": "execute_result",
          "data": {
            "text/plain": [
              "2"
            ]
          },
          "metadata": {
            "tags": []
          },
          "execution_count": 27
        }
      ]
    },
    {
      "cell_type": "code",
      "metadata": {
        "colab": {
          "base_uri": "https://localhost:8080/"
        },
        "id": "2pvnFLaks4GC",
        "outputId": "e7b07c63-e4c5-44f7-d6fd-ea53fc299984"
      },
      "source": [
        "ti.find('i')"
      ],
      "execution_count": null,
      "outputs": [
        {
          "output_type": "execute_result",
          "data": {
            "text/plain": [
              "8"
            ]
          },
          "metadata": {
            "tags": []
          },
          "execution_count": 28
        }
      ]
    },
    {
      "cell_type": "code",
      "metadata": {
        "colab": {
          "base_uri": "https://localhost:8080/"
        },
        "id": "9izr4hhMtWU7",
        "outputId": "75e6fb1e-f30d-4327-cba2-b1a87edd09e0"
      },
      "source": [
        "ti.find('f')"
      ],
      "execution_count": null,
      "outputs": [
        {
          "output_type": "execute_result",
          "data": {
            "text/plain": [
              "-1"
            ]
          },
          "metadata": {
            "tags": []
          },
          "execution_count": 30
        }
      ]
    },
    {
      "cell_type": "code",
      "metadata": {
        "colab": {
          "base_uri": "https://localhost:8080/"
        },
        "id": "MSQYBn93s4DY",
        "outputId": "5b8a85f2-2f84-4905-de66-75ab05916e0c"
      },
      "source": [
        "ti.index('i')"
      ],
      "execution_count": null,
      "outputs": [
        {
          "output_type": "execute_result",
          "data": {
            "text/plain": [
              "8"
            ]
          },
          "metadata": {
            "tags": []
          },
          "execution_count": 29
        }
      ]
    },
    {
      "cell_type": "code",
      "metadata": {
        "colab": {
          "base_uri": "https://localhost:8080/",
          "height": 170
        },
        "id": "XDbn0Md8tY7X",
        "outputId": "0248d45e-99d4-4965-a36c-6b03fd583a0e"
      },
      "source": [
        "ti.index('f')"
      ],
      "execution_count": null,
      "outputs": [
        {
          "output_type": "error",
          "ename": "ValueError",
          "evalue": "ignored",
          "traceback": [
            "\u001b[0;31m---------------------------------------------------------------------------\u001b[0m",
            "\u001b[0;31mValueError\u001b[0m                                Traceback (most recent call last)",
            "\u001b[0;32m<ipython-input-31-c08272185df7>\u001b[0m in \u001b[0;36m<module>\u001b[0;34m()\u001b[0m\n\u001b[0;32m----> 1\u001b[0;31m \u001b[0mti\u001b[0m\u001b[0;34m.\u001b[0m\u001b[0mindex\u001b[0m\u001b[0;34m(\u001b[0m\u001b[0;34m'f'\u001b[0m\u001b[0;34m)\u001b[0m\u001b[0;34m\u001b[0m\u001b[0;34m\u001b[0m\u001b[0m\n\u001b[0m",
            "\u001b[0;31mValueError\u001b[0m: substring not found"
          ]
        }
      ]
    },
    {
      "cell_type": "markdown",
      "metadata": {
        "id": "zGlx12ULtf3E"
      },
      "source": [
        "### 문자열 삽입 (join)\n",
        "- 넣을 문자열.join(타겟 문자열)\n",
        "- 타겟 문자열에 문자열이 사이사이 들어간다\n",
        "- 리스트나 튜플에도 사용가능\n",
        "\n",
        "### 소문자 -> 대문자 (upper), 대문자 -> 소문자 (lower)\n",
        "- 바꿀게 없어도 오류 없음.\n",
        "-upper(),lower() 안에 아무것도 안넣어도 됨\n",
        "\n",
        "### 문자열 바꾸기 (replace)\n",
        "- 변수.replace( 타겟 문자열 , 바꿀 문자열)\n",
        "\n",
        "### 문자열 나누기 (split)\n",
        "- split() 안에 아무것도 안넣으면 공백 기준으로 나눔\n",
        "- split(구분자) 구분자를 지정해주면 그것을 기준으로 나눔. 구분자는 없어짐\n"
      ]
    },
    {
      "cell_type": "code",
      "metadata": {
        "colab": {
          "base_uri": "https://localhost:8080/",
          "height": 34
        },
        "id": "WHNPnLtSzK_Y",
        "outputId": "7c79431c-f2ef-431a-c06b-398fe27dc9a2"
      },
      "source": [
        "'='.join(ti)"
      ],
      "execution_count": null,
      "outputs": [
        {
          "output_type": "execute_result",
          "data": {
            "application/vnd.google.colaboratory.intrinsic+json": {
              "type": "string"
            },
            "text/plain": [
              "'m=y= =n=a=m=e= =i=s= =t=a=e=-=i=n'"
            ]
          },
          "metadata": {
            "tags": []
          },
          "execution_count": 39
        }
      ]
    },
    {
      "cell_type": "code",
      "metadata": {
        "colab": {
          "base_uri": "https://localhost:8080/",
          "height": 34
        },
        "id": "h_OgUEjVzK4x",
        "outputId": "7bedef1c-0a5e-4dff-e46f-631d38330fec"
      },
      "source": [
        "'='.join('blaidkamdfidmkekwk')"
      ],
      "execution_count": null,
      "outputs": [
        {
          "output_type": "execute_result",
          "data": {
            "application/vnd.google.colaboratory.intrinsic+json": {
              "type": "string"
            },
            "text/plain": [
              "'b=l=a=i=d=k=a=m=d=f=i=d=m=k=e=k=w=k'"
            ]
          },
          "metadata": {
            "tags": []
          },
          "execution_count": 40
        }
      ]
    },
    {
      "cell_type": "code",
      "metadata": {
        "colab": {
          "base_uri": "https://localhost:8080/",
          "height": 34
        },
        "id": "9F96C7AYzK11",
        "outputId": "2393eb56-062a-4d29-936e-7a1c90cb09ae"
      },
      "source": [
        "up = ti.upper()\n",
        "ti.upper()"
      ],
      "execution_count": null,
      "outputs": [
        {
          "output_type": "execute_result",
          "data": {
            "application/vnd.google.colaboratory.intrinsic+json": {
              "type": "string"
            },
            "text/plain": [
              "'MY NAME IS TAE-IN'"
            ]
          },
          "metadata": {
            "tags": []
          },
          "execution_count": 47
        }
      ]
    },
    {
      "cell_type": "code",
      "metadata": {
        "colab": {
          "base_uri": "https://localhost:8080/",
          "height": 34
        },
        "id": "6xu97PQIzKzJ",
        "outputId": "2f8f1ef2-3a3a-4ddf-be20-95f27f9d4b0b"
      },
      "source": [
        "up.lower()"
      ],
      "execution_count": null,
      "outputs": [
        {
          "output_type": "execute_result",
          "data": {
            "application/vnd.google.colaboratory.intrinsic+json": {
              "type": "string"
            },
            "text/plain": [
              "'my name is tae-in'"
            ]
          },
          "metadata": {
            "tags": []
          },
          "execution_count": 48
        }
      ]
    },
    {
      "cell_type": "code",
      "metadata": {
        "colab": {
          "base_uri": "https://localhost:8080/",
          "height": 34
        },
        "id": "M6SCQTbHzKwI",
        "outputId": "ba9a8021-e038-40f0-9f0a-730b614cf69e"
      },
      "source": [
        "ti.replace('tae','gang')"
      ],
      "execution_count": null,
      "outputs": [
        {
          "output_type": "execute_result",
          "data": {
            "application/vnd.google.colaboratory.intrinsic+json": {
              "type": "string"
            },
            "text/plain": [
              "'my name is gang-in'"
            ]
          },
          "metadata": {
            "tags": []
          },
          "execution_count": 49
        }
      ]
    },
    {
      "cell_type": "code",
      "metadata": {
        "colab": {
          "base_uri": "https://localhost:8080/"
        },
        "id": "6976TDHPzKtR",
        "outputId": "a6e0aac8-da2a-4d7f-9f59-08a415746e8d"
      },
      "source": [
        "ti.split('-')"
      ],
      "execution_count": null,
      "outputs": [
        {
          "output_type": "execute_result",
          "data": {
            "text/plain": [
              "['my name is tae', 'in']"
            ]
          },
          "metadata": {
            "tags": []
          },
          "execution_count": 50
        }
      ]
    },
    {
      "cell_type": "markdown",
      "metadata": {
        "id": "02ywpk505Zm4"
      },
      "source": [
        "## 리스트"
      ]
    },
    {
      "cell_type": "markdown",
      "metadata": {
        "id": "uD7wYvNj5faD"
      },
      "source": [
        "### 중첩 리스트 인덱싱\n",
        "- 인덱싱을 중첩으로 해주면 된다."
      ]
    },
    {
      "cell_type": "code",
      "metadata": {
        "id": "IDV5A4OdzKqs"
      },
      "source": [
        "l = ['taein','house','sunny',['is','sangdo',['ro', '8-8', '4']]]\n",
        "s = ['feel','good']"
      ],
      "execution_count": 3,
      "outputs": []
    },
    {
      "cell_type": "code",
      "metadata": {
        "colab": {
          "base_uri": "https://localhost:8080/",
          "height": 34
        },
        "id": "uH-N7YDvzKoG",
        "outputId": "228e46da-372a-4fa3-dd74-870f65774ff7"
      },
      "source": [
        "l[0] + l[3][0] + l[3][2][2] "
      ],
      "execution_count": null,
      "outputs": [
        {
          "output_type": "execute_result",
          "data": {
            "application/vnd.google.colaboratory.intrinsic+json": {
              "type": "string"
            },
            "text/plain": [
              "'taeinis4'"
            ]
          },
          "metadata": {
            "tags": []
          },
          "execution_count": 54
        }
      ]
    },
    {
      "cell_type": "markdown",
      "metadata": {
        "id": "7_L4FND86l9M"
      },
      "source": [
        "### 리스트 합치기(+)\n",
        "- 두 리스트를 +로 합친다.\n",
        "\n",
        "### 리스트 곱하기(*)\n",
        "- 리스트를 *로 반복한다."
      ]
    },
    {
      "cell_type": "code",
      "metadata": {
        "colab": {
          "base_uri": "https://localhost:8080/"
        },
        "id": "TOTAwPVAzKl5",
        "outputId": "ee4fd9b4-8e31-4358-e0a1-22f815de0ad8"
      },
      "source": [
        "s + l"
      ],
      "execution_count": null,
      "outputs": [
        {
          "output_type": "execute_result",
          "data": {
            "text/plain": [
              "['feel',\n",
              " 'good',\n",
              " 'taein',\n",
              " 'house',\n",
              " 'sunny',\n",
              " ['is', 'sangdo', ['ro', '8-8', '4']]]"
            ]
          },
          "metadata": {
            "tags": []
          },
          "execution_count": 56
        }
      ]
    },
    {
      "cell_type": "code",
      "metadata": {
        "colab": {
          "base_uri": "https://localhost:8080/"
        },
        "id": "7m_M077168j-",
        "outputId": "e9e7a9f7-b84b-4a21-d2df-85c60bea1486"
      },
      "source": [
        "s *2"
      ],
      "execution_count": null,
      "outputs": [
        {
          "output_type": "execute_result",
          "data": {
            "text/plain": [
              "['feel', 'good', 'feel', 'good']"
            ]
          },
          "metadata": {
            "tags": []
          },
          "execution_count": 57
        }
      ]
    },
    {
      "cell_type": "markdown",
      "metadata": {
        "id": "kQIiK_yu6_v2"
      },
      "source": [
        "### 리스트 길이 구하기 \n",
        "- len(리스트)로 길이(원소 개수) 구할 수 있음\n",
        "- 중첩리스트는 리스트 안에 있는 리스트를 한 원소로 봄\n",
        "\n",
        "- 문자열, 리스트, 튜플, 딕셔너리 모두 사용가능하다."
      ]
    },
    {
      "cell_type": "code",
      "metadata": {
        "colab": {
          "base_uri": "https://localhost:8080/"
        },
        "id": "--xFVail68h4",
        "outputId": "f78942f4-919a-40d2-9f53-d774b90d993a"
      },
      "source": [
        "len(s)"
      ],
      "execution_count": null,
      "outputs": [
        {
          "output_type": "execute_result",
          "data": {
            "text/plain": [
              "2"
            ]
          },
          "metadata": {
            "tags": []
          },
          "execution_count": 58
        }
      ]
    },
    {
      "cell_type": "code",
      "metadata": {
        "colab": {
          "base_uri": "https://localhost:8080/"
        },
        "id": "iw7FnIYs68fu",
        "outputId": "8a8eb50b-1fe4-483f-84e1-440bf04edb80"
      },
      "source": [
        "len(l)"
      ],
      "execution_count": null,
      "outputs": [
        {
          "output_type": "execute_result",
          "data": {
            "text/plain": [
              "4"
            ]
          },
          "metadata": {
            "tags": []
          },
          "execution_count": 59
        }
      ]
    },
    {
      "cell_type": "markdown",
      "metadata": {
        "id": "pNg9cT8DuSyD"
      },
      "source": [
        "### 리스트 값 제거\n",
        "- del 함수 사용 -> del 객체 로 요소 제거. 객체엔 인덱싱이나 슬라이싱도 가능.\n",
        "- 변수.remove(원소)사용 -> 리스트에서 첫번째로 나오는 원소 제거. 원소는 무조건 1개만 없앰\n",
        "- 변수.pop(원소) 사용 -> 리스트 마지막 원소를 출력하고 바로 제거. \n",
        "- 리스트 요소가 문자열이든 숫자든 관계없음"
      ]
    },
    {
      "cell_type": "markdown",
      "metadata": {
        "id": "N1nuvpNRKVia"
      },
      "source": [
        "### 리스트 원소 삽입\n",
        "- 변수.append(원소) -> 원소를 리스트 맨 마지막에 삽입\n",
        "- 변수.insert(인덱스,원소) -> 원소를 인덱스 위치에 삽입\n",
        "- 리스트 요소가 문자열이든 숫자든 관계없음"
      ]
    },
    {
      "cell_type": "code",
      "metadata": {
        "id": "LgrHDt7W68bx",
        "colab": {
          "base_uri": "https://localhost:8080/"
        },
        "outputId": "d5fdff05-e76c-40a0-caae-1a1b46a4eae9"
      },
      "source": [
        "s.append(5)\n",
        "s"
      ],
      "execution_count": 5,
      "outputs": [
        {
          "output_type": "execute_result",
          "data": {
            "text/plain": [
              "['feel', 'good', 5, 5]"
            ]
          },
          "metadata": {
            "tags": []
          },
          "execution_count": 5
        }
      ]
    },
    {
      "cell_type": "code",
      "metadata": {
        "id": "e1TB-nsQ68ZV",
        "colab": {
          "base_uri": "https://localhost:8080/"
        },
        "outputId": "5d5bcec4-b432-46ca-9d2c-98766ac5998b"
      },
      "source": [
        "s.insert(0,'ㅎㅇ')\n",
        "s"
      ],
      "execution_count": 9,
      "outputs": [
        {
          "output_type": "execute_result",
          "data": {
            "text/plain": [
              "['ㅎㅇ', 'ㅎㅇ', 'feel', 'good', 5, 5]"
            ]
          },
          "metadata": {
            "tags": []
          },
          "execution_count": 9
        }
      ]
    },
    {
      "cell_type": "code",
      "metadata": {
        "id": "zh8aEY0C68XO"
      },
      "source": [
        "del s[0]"
      ],
      "execution_count": 10,
      "outputs": []
    },
    {
      "cell_type": "code",
      "metadata": {
        "id": "-Rah6d-o68VV",
        "colab": {
          "base_uri": "https://localhost:8080/"
        },
        "outputId": "8470cfce-51ef-47d7-b342-d0f683269222"
      },
      "source": [
        "s.remove(5)\n",
        "s"
      ],
      "execution_count": 13,
      "outputs": [
        {
          "output_type": "execute_result",
          "data": {
            "text/plain": [
              "['feel', 'good', 5]"
            ]
          },
          "metadata": {
            "tags": []
          },
          "execution_count": 13
        }
      ]
    },
    {
      "cell_type": "markdown",
      "metadata": {
        "id": "lgtZVvHiLL4U"
      },
      "source": [
        "### 리스트 정렬(정방향, 역방향)\n",
        "- 리스트.sort() -> 리스트를 순서대로 정렬 1432 -> 1234, acb -> abc\n",
        "- 리스트.reverse() -> 리스트를 역순으로 정렬, 내림차순 아니고 그냥 뒤집기만. cab -> bac"
      ]
    },
    {
      "cell_type": "markdown",
      "metadata": {
        "id": "h472YE4VLwtT"
      },
      "source": [
        "### 리스트 원소 위치 반환\n",
        "- 리스트.index(원소) -> 원소의 리스트 내 위치를 반환\n"
      ]
    },
    {
      "cell_type": "markdown",
      "metadata": {
        "id": "ERtGbI0_Lxpv"
      },
      "source": [
        "### 리스트 내 원소 개수 세기\n",
        "- 리스트.count(원소) -> 원소가 몇 개 있는지 반환"
      ]
    },
    {
      "cell_type": "markdown",
      "metadata": {
        "id": "WfJoTt3eRk-G"
      },
      "source": [
        "# 리스트 확장\n",
        "- 리스트1.extend(리스트2) -> extend 안에는 리스트만 올 수 있음\n",
        "- 리스트2를 리스트1에 합침. 리스트2는 미리 변수로 만들어 놓을 수도 있고 바로 리스트를 넣어도 됨. "
      ]
    },
    {
      "cell_type": "code",
      "metadata": {
        "id": "STJXS4UO68RO"
      },
      "source": [
        ""
      ],
      "execution_count": null,
      "outputs": []
    },
    {
      "cell_type": "code",
      "metadata": {
        "id": "ArzDYxtT68Om"
      },
      "source": [
        ""
      ],
      "execution_count": null,
      "outputs": []
    },
    {
      "cell_type": "code",
      "metadata": {
        "id": "flk6Vg3K68NA"
      },
      "source": [
        ""
      ],
      "execution_count": null,
      "outputs": []
    },
    {
      "cell_type": "code",
      "metadata": {
        "id": "fm7Hp3lh68KY"
      },
      "source": [
        ""
      ],
      "execution_count": null,
      "outputs": []
    },
    {
      "cell_type": "code",
      "metadata": {
        "id": "C5rZjf8c68IX"
      },
      "source": [
        ""
      ],
      "execution_count": null,
      "outputs": []
    },
    {
      "cell_type": "code",
      "metadata": {
        "id": "-p9tzfYF68GH"
      },
      "source": [
        ""
      ],
      "execution_count": null,
      "outputs": []
    },
    {
      "cell_type": "code",
      "metadata": {
        "id": "_OebSu0q67JC"
      },
      "source": [
        ""
      ],
      "execution_count": null,
      "outputs": []
    },
    {
      "cell_type": "markdown",
      "metadata": {
        "id": "2kSasxJLPADF"
      },
      "source": [
        "## Q1\n"
      ]
    },
    {
      "cell_type": "code",
      "metadata": {
        "id": "voFBisl-O8ll"
      },
      "source": [
        "홍길동 씨의 과목별 점수는 다음과 같다. 홍길동 씨의 평균 점수를 구해 보자.\n",
        "\n",
        "과목\t점수\n",
        "국어\t80\n",
        "영어\t75\n",
        "수학\t55"
      ],
      "execution_count": null,
      "outputs": []
    },
    {
      "cell_type": "code",
      "metadata": {
        "colab": {
          "base_uri": "https://localhost:8080/",
          "height": 170
        },
        "id": "ziBjdT9yoqeA",
        "outputId": "ae91e185-d5fc-4903-ae9f-f2ce455376c4"
      },
      "source": [
        "sub = c(80, 75, 55)"
      ],
      "execution_count": null,
      "outputs": [
        {
          "output_type": "error",
          "ename": "NameError",
          "evalue": "ignored",
          "traceback": [
            "\u001b[0;31m---------------------------------------------------------------------------\u001b[0m",
            "\u001b[0;31mNameError\u001b[0m                                 Traceback (most recent call last)",
            "\u001b[0;32m<ipython-input-4-c64b6100e44a>\u001b[0m in \u001b[0;36m<module>\u001b[0;34m()\u001b[0m\n\u001b[0;32m----> 1\u001b[0;31m \u001b[0msub\u001b[0m \u001b[0;34m=\u001b[0m \u001b[0mc\u001b[0m\u001b[0;34m(\u001b[0m\u001b[0;36m80\u001b[0m\u001b[0;34m,\u001b[0m \u001b[0;36m75\u001b[0m\u001b[0;34m,\u001b[0m \u001b[0;36m55\u001b[0m\u001b[0;34m)\u001b[0m\u001b[0;34m\u001b[0m\u001b[0;34m\u001b[0m\u001b[0m\n\u001b[0m",
            "\u001b[0;31mNameError\u001b[0m: name 'c' is not defined"
          ]
        }
      ]
    },
    {
      "cell_type": "code",
      "metadata": {
        "colab": {
          "base_uri": "https://localhost:8080/",
          "height": 170
        },
        "id": "n0JoJISMow70",
        "outputId": "ea911688-5b96-4e69-a4e9-aa19f96802d5"
      },
      "source": [
        "sub.mean()"
      ],
      "execution_count": null,
      "outputs": [
        {
          "output_type": "error",
          "ename": "AttributeError",
          "evalue": "ignored",
          "traceback": [
            "\u001b[0;31m---------------------------------------------------------------------------\u001b[0m",
            "\u001b[0;31mAttributeError\u001b[0m                            Traceback (most recent call last)",
            "\u001b[0;32m<ipython-input-3-f9fbadfc6a23>\u001b[0m in \u001b[0;36m<module>\u001b[0;34m()\u001b[0m\n\u001b[0;32m----> 1\u001b[0;31m \u001b[0msub\u001b[0m\u001b[0;34m.\u001b[0m\u001b[0mmean\u001b[0m\u001b[0;34m(\u001b[0m\u001b[0;34m)\u001b[0m\u001b[0;34m\u001b[0m\u001b[0;34m\u001b[0m\u001b[0m\n\u001b[0m",
            "\u001b[0;31mAttributeError\u001b[0m: 'list' object has no attribute 'mean'"
          ]
        }
      ]
    },
    {
      "cell_type": "code",
      "metadata": {
        "id": "kb6y2Zx4oqbm"
      },
      "source": [
        ""
      ],
      "execution_count": null,
      "outputs": []
    },
    {
      "cell_type": "code",
      "metadata": {
        "id": "MxpcHqkpoqZK"
      },
      "source": [
        ""
      ],
      "execution_count": null,
      "outputs": []
    },
    {
      "cell_type": "code",
      "metadata": {
        "id": "NzG-Oh3moqWl"
      },
      "source": [
        ""
      ],
      "execution_count": null,
      "outputs": []
    }
  ]
}