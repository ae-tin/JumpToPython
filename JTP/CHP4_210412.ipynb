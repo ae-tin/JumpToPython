{
  "nbformat": 4,
  "nbformat_minor": 0,
  "metadata": {
    "colab": {
      "name": "CHP4_210412.ipynb",
      "provenance": [],
      "collapsed_sections": []
    },
    "kernelspec": {
      "name": "python3",
      "display_name": "Python 3"
    },
    "language_info": {
      "name": "python"
    }
  },
  "cells": [
    {
      "cell_type": "markdown",
      "metadata": {
        "id": "SilN4deKhLBb"
      },
      "source": [
        "# CHP4 - 프로그램의 입출력"
      ]
    },
    {
      "cell_type": "markdown",
      "metadata": {
        "id": "f8QlENdHhLar"
      },
      "source": [
        "## 함수\n",
        "\n",
        "- def 함수명(매개변수):\n",
        "-    <수행할 문장1>\n",
        "-    <수행할 문장2>\n",
        "-    ...\n",
        "-    return 반환할 결과값\n",
        "-\n",
        "- 매개변수가 없을 수도 있고, 결과값이 없을 수도 있다.\n",
        "\n",
        "- 매개변수(parameter) : 함수에서 입력할 수 있는 값. 미지수. ex) 함수 add를 만들때 파라미터 a,b를 넣자.\n",
        "- 인수(argument) : 함수에 직접 넣는 값. ex) 함수 add에 아규먼트 2,5를 넣어보자."
      ]
    },
    {
      "cell_type": "markdown",
      "metadata": {
        "id": "2qPSexkrhLdC"
      },
      "source": [
        "### 입력값 O, 결과값 O\n",
        "\n",
        "- def 함수이름(매개변수):\n",
        "-    <수행할 문장>\n",
        "-    ...\n",
        "-    return 결과값\n",
        "-\n",
        "- 변수에 함수값을 저장하면 저장됨."
      ]
    },
    {
      "cell_type": "code",
      "metadata": {
        "colab": {
          "base_uri": "https://localhost:8080/"
        },
        "id": "ucAc0LDjoPli",
        "outputId": "5a03d2c0-3597-4d0e-e450-76624edebeed"
      },
      "source": [
        "a = 1\n",
        "b = 4\n",
        "def add(a, b): \n",
        "    result = a + b \n",
        "    return result\n",
        "add(a,b)\n"
      ],
      "execution_count": 1,
      "outputs": [
        {
          "output_type": "execute_result",
          "data": {
            "text/plain": [
              "5"
            ]
          },
          "metadata": {
            "tags": []
          },
          "execution_count": 1
        }
      ]
    },
    {
      "cell_type": "code",
      "metadata": {
        "colab": {
          "base_uri": "https://localhost:8080/"
        },
        "id": "R8ZqzYH3od4z",
        "outputId": "88f9ffc0-4702-4e14-a534-9fd51ec331c2"
      },
      "source": [
        "a = add(5,6)\n",
        "a"
      ],
      "execution_count": 3,
      "outputs": [
        {
          "output_type": "execute_result",
          "data": {
            "text/plain": [
              "11"
            ]
          },
          "metadata": {
            "tags": []
          },
          "execution_count": 3
        }
      ]
    },
    {
      "cell_type": "markdown",
      "metadata": {
        "id": "JC0tmiv7ouce"
      },
      "source": [
        "### 입력값 X, 결과값 O\n",
        "\n",
        "- def 함수이름( 없음 ) :\n",
        "-  <수행할 문장>\n",
        "- ...\n",
        "- return 결과값\n",
        "-\n",
        "- 변수에 함수값 저장하면 저장됨.\n"
      ]
    },
    {
      "cell_type": "code",
      "metadata": {
        "id": "v24scZh0oecv"
      },
      "source": [
        "def say(): \n",
        " return 'Hi' "
      ],
      "execution_count": 4,
      "outputs": []
    },
    {
      "cell_type": "code",
      "metadata": {
        "colab": {
          "base_uri": "https://localhost:8080/",
          "height": 34
        },
        "id": "5HqRGFsPoe8k",
        "outputId": "7c8dec28-30d8-4ac2-a6dd-6dd7f7fbc7d5"
      },
      "source": [
        "say()"
      ],
      "execution_count": 5,
      "outputs": [
        {
          "output_type": "execute_result",
          "data": {
            "application/vnd.google.colaboratory.intrinsic+json": {
              "type": "string"
            },
            "text/plain": [
              "'Hi'"
            ]
          },
          "metadata": {
            "tags": []
          },
          "execution_count": 5
        }
      ]
    },
    {
      "cell_type": "code",
      "metadata": {
        "id": "SzozDA9FofG-"
      },
      "source": [
        "s = say()"
      ],
      "execution_count": 6,
      "outputs": []
    },
    {
      "cell_type": "code",
      "metadata": {
        "colab": {
          "base_uri": "https://localhost:8080/",
          "height": 34
        },
        "id": "RcL2o9jgofM6",
        "outputId": "45731ce2-9ea6-4b67-a87d-17d5bc038fb3"
      },
      "source": [
        "s"
      ],
      "execution_count": 7,
      "outputs": [
        {
          "output_type": "execute_result",
          "data": {
            "application/vnd.google.colaboratory.intrinsic+json": {
              "type": "string"
            },
            "text/plain": [
              "'Hi'"
            ]
          },
          "metadata": {
            "tags": []
          },
          "execution_count": 7
        }
      ]
    },
    {
      "cell_type": "markdown",
      "metadata": {
        "id": "43Np_x1BhLf3"
      },
      "source": [
        "### 입력값 O, 결과값 X \n",
        "\n",
        "- def 함수이름(매개변수) :\n",
        "- <수행할 문장>\n",
        "- ,,,\n",
        "-\n",
        "- return 명령어가 없고 수행할 문장 부분은 실행이 돼서 결과값이 있어보이지만\n",
        "- 변수에 함수값을 저장하려해도 저장되지 않는다.\n"
      ]
    },
    {
      "cell_type": "code",
      "metadata": {
        "id": "AaohjPpVpgGe"
      },
      "source": [
        "def add(a, b): \n",
        "  print(\"%d, %d의 합은 %d입니다.\" % (a, b, a+b))"
      ],
      "execution_count": 9,
      "outputs": []
    },
    {
      "cell_type": "code",
      "metadata": {
        "colab": {
          "base_uri": "https://localhost:8080/"
        },
        "id": "ZEAqdYtRpjRs",
        "outputId": "14d44332-c7ad-49ab-9535-b29c4e537613"
      },
      "source": [
        "add(1,2)"
      ],
      "execution_count": 10,
      "outputs": [
        {
          "output_type": "stream",
          "text": [
            "1, 2의 합은 3입니다.\n"
          ],
          "name": "stdout"
        }
      ]
    },
    {
      "cell_type": "code",
      "metadata": {
        "colab": {
          "base_uri": "https://localhost:8080/"
        },
        "id": "97zhjYhWppAv",
        "outputId": "04e651b1-6094-448c-aaab-a920b53b39b7"
      },
      "source": [
        "# 결과가 있는 것처럼 보이지만 변수 a 에는 저장된 것이 없다.\n",
        "a = add(1,4)"
      ],
      "execution_count": 15,
      "outputs": [
        {
          "output_type": "stream",
          "text": [
            "1, 4의 합은 5입니다.\n"
          ],
          "name": "stdout"
        }
      ]
    },
    {
      "cell_type": "code",
      "metadata": {
        "id": "tzx_7JWRp2f8"
      },
      "source": [
        "a"
      ],
      "execution_count": 16,
      "outputs": []
    },
    {
      "cell_type": "code",
      "metadata": {
        "colab": {
          "base_uri": "https://localhost:8080/"
        },
        "id": "Y2TL57NdqA4M",
        "outputId": "b7bfa456-102f-474c-bb7c-64c81a6e806a"
      },
      "source": [
        "print(a)"
      ],
      "execution_count": 17,
      "outputs": [
        {
          "output_type": "stream",
          "text": [
            "None\n"
          ],
          "name": "stdout"
        }
      ]
    },
    {
      "cell_type": "markdown",
      "metadata": {
        "id": "dMEHoJx_hLih"
      },
      "source": [
        "### 입력값 X, 결과값 X\n",
        "- def 함수이름() :\n",
        "- <수행할 문장>\n",
        "-\n",
        "- 함수이름() 으로 수행할 문장 실행가능"
      ]
    },
    {
      "cell_type": "code",
      "metadata": {
        "id": "1cOCncN1qi4Z"
      },
      "source": [
        "def say(): \n",
        "  print('Hi')"
      ],
      "execution_count": 18,
      "outputs": []
    },
    {
      "cell_type": "code",
      "metadata": {
        "colab": {
          "base_uri": "https://localhost:8080/"
        },
        "id": "RNW9ywUpqk0H",
        "outputId": "bf5a1996-e8e6-44e5-8032-5b22792fe247"
      },
      "source": [
        "say()"
      ],
      "execution_count": 19,
      "outputs": [
        {
          "output_type": "stream",
          "text": [
            "Hi\n"
          ],
          "name": "stdout"
        }
      ]
    },
    {
      "cell_type": "markdown",
      "metadata": {
        "id": "SFKysvE5hLpV"
      },
      "source": [
        "### 매개변수 지정 호출\n",
        "-\n",
        "- 함수를 설정했으면 함수이름 ( 매개변수1 = 값, 매개변수2 = 값)처럼 매개변수에 직접 값을 입력할 수 있다. 매개변수를 직접 입력하므로 매개변수 순서가 바뀌어도 관계없다."
      ]
    },
    {
      "cell_type": "code",
      "metadata": {
        "id": "VA5Q2N5IvT4N"
      },
      "source": [
        "def func(a, b):\n",
        "     return a*b + a"
      ],
      "execution_count": 20,
      "outputs": []
    },
    {
      "cell_type": "code",
      "metadata": {
        "colab": {
          "base_uri": "https://localhost:8080/"
        },
        "id": "q9614uNMvajK",
        "outputId": "afefcd64-672b-4006-991b-160344565563"
      },
      "source": [
        "func(a =1, b=2)"
      ],
      "execution_count": 21,
      "outputs": [
        {
          "output_type": "execute_result",
          "data": {
            "text/plain": [
              "3"
            ]
          },
          "metadata": {
            "tags": []
          },
          "execution_count": 21
        }
      ]
    },
    {
      "cell_type": "code",
      "metadata": {
        "colab": {
          "base_uri": "https://localhost:8080/"
        },
        "id": "iaAWLZbOvf4X",
        "outputId": "94ddeb9b-c144-4c87-d484-e3e1e5c78f5e"
      },
      "source": [
        "# 매개변수 b에 직접 값을 넣어줬으므로 func(b=2, a=1) = func(1,2) 와 같다.\n",
        "func(b=2, a=1)"
      ],
      "execution_count": 24,
      "outputs": [
        {
          "output_type": "execute_result",
          "data": {
            "text/plain": [
              "3"
            ]
          },
          "metadata": {
            "tags": []
          },
          "execution_count": 24
        }
      ]
    },
    {
      "cell_type": "code",
      "metadata": {
        "colab": {
          "base_uri": "https://localhost:8080/"
        },
        "id": "oQibSvWUvlYf",
        "outputId": "2fa55b1d-56fe-4bca-ec71-8a4663d45b21"
      },
      "source": [
        "func(2,1)"
      ],
      "execution_count": 23,
      "outputs": [
        {
          "output_type": "execute_result",
          "data": {
            "text/plain": [
              "4"
            ]
          },
          "metadata": {
            "tags": []
          },
          "execution_count": 23
        }
      ]
    },
    {
      "cell_type": "markdown",
      "metadata": {
        "id": "DuXfIQ873TjW"
      },
      "source": [
        "### 매개값 초기 설정\n",
        "- 매개변수에 초기 디폴트 값을 설정할 수 있다. \n",
        "- 초기 값으로 설정하려면 여러 매개변수 중에 맨 뒤에 적어야함."
      ]
    },
    {
      "cell_type": "code",
      "metadata": {
        "id": "IyuTn4ST3ku0"
      },
      "source": [
        "def say_myself(name, old, man=True): \n",
        "    print(\"나의 이름은 %s 입니다.\" % name) \n",
        "    print(\"나이는 %d살입니다.\" % old) \n",
        "    if man: \n",
        "        print(\"남자입니다.\")\n",
        "    else: \n",
        "        print(\"여자입니다.\")"
      ],
      "execution_count": 41,
      "outputs": []
    },
    {
      "cell_type": "code",
      "metadata": {
        "colab": {
          "base_uri": "https://localhost:8080/"
        },
        "id": "bVaBk6_D3l5M",
        "outputId": "4561b66d-b6a4-487c-fbcf-23715db04e07"
      },
      "source": [
        "say_myself(\"taein\", 26)"
      ],
      "execution_count": 42,
      "outputs": [
        {
          "output_type": "stream",
          "text": [
            "나의 이름은 taein 입니다.\n",
            "나이는 26살입니다.\n",
            "남자입니다.\n"
          ],
          "name": "stdout"
        }
      ]
    },
    {
      "cell_type": "code",
      "metadata": {
        "colab": {
          "base_uri": "https://localhost:8080/"
        },
        "id": "EVS1wF6S3r4W",
        "outputId": "3d35efc6-dc7e-440c-e8ca-64e491ac366d"
      },
      "source": [
        "say_myself(\"a-jung\", 29, False)"
      ],
      "execution_count": 43,
      "outputs": [
        {
          "output_type": "stream",
          "text": [
            "나의 이름은 a-jung 입니다.\n",
            "나이는 29살입니다.\n",
            "여자입니다.\n"
          ],
          "name": "stdout"
        }
      ]
    },
    {
      "cell_type": "markdown",
      "metadata": {
        "id": "J1hzPxeehLuM"
      },
      "source": [
        "### 입력값이 몇개인지 모를때\n",
        "-\n",
        "- def 함수이름(*매개변수) :\n",
        "-    <수행할 문장>\n",
        "-    return\n",
        "- >>> 매개변수 앞에 *을 붙이면 값이 여러개가 들어와도 수행가능하다. \n",
        "- \n",
        "-\n",
        "- def 함수이름(**매개변수key = 값value) :\n",
        "-    <수행할 문장>\n",
        "-    return\n",
        "- >>> 매개변수 앞에 **을 붙이면 keyargument라고 해서 딕셔너리처럼 저장된다. "
      ]
    },
    {
      "cell_type": "code",
      "metadata": {
        "id": "p3JJ9YUqw1Kt"
      },
      "source": [
        "def add_many(*args): \n",
        "...     result = 0 \n",
        "...     for i in args: \n",
        "...         result = result + i \n",
        "...     return result "
      ],
      "execution_count": 25,
      "outputs": []
    },
    {
      "cell_type": "code",
      "metadata": {
        "colab": {
          "base_uri": "https://localhost:8080/"
        },
        "id": "GrhiK1hJxKmb",
        "outputId": "16601420-ab67-4d1f-e437-b51bf641ba1d"
      },
      "source": [
        "result = add_many(1,2,3)\n",
        "print(result)\n",
        "result = add_many(1,2,3,4,5,6,7,8,9,10)\n",
        "print(result)"
      ],
      "execution_count": 26,
      "outputs": [
        {
          "output_type": "stream",
          "text": [
            "6\n",
            "55\n"
          ],
          "name": "stdout"
        }
      ]
    },
    {
      "cell_type": "code",
      "metadata": {
        "id": "mE4p3xpLxKgp"
      },
      "source": [
        "def print_kwargs(**kwargs):\n",
        "...     return kwargs"
      ],
      "execution_count": 32,
      "outputs": []
    },
    {
      "cell_type": "code",
      "metadata": {
        "id": "twW_A8ODxXft"
      },
      "source": [
        "a = print_kwargs(name='foo', age=3)"
      ],
      "execution_count": 33,
      "outputs": []
    },
    {
      "cell_type": "code",
      "metadata": {
        "colab": {
          "base_uri": "https://localhost:8080/"
        },
        "id": "aGHfu16oxWkG",
        "outputId": "b393eafb-07c5-411e-9dd5-37ca7922337b"
      },
      "source": [
        "a"
      ],
      "execution_count": 34,
      "outputs": [
        {
          "output_type": "execute_result",
          "data": {
            "text/plain": [
              "{'age': 3, 'name': 'foo'}"
            ]
          },
          "metadata": {
            "tags": []
          },
          "execution_count": 34
        }
      ]
    },
    {
      "cell_type": "markdown",
      "metadata": {
        "id": "vdt9p7sGzeb7"
      },
      "source": [
        "### 함수 결과값은 하나여야한다.\n",
        "\n",
        "- def 함수이름() : \n",
        "- <수행할 문장>\n",
        "-  return 결과1, 결과2\n",
        "- > 결과가 2개지만 결과를 보면 튜플로 저장돼 하나의 결과라고 볼 수 있다.\n",
        "- 결과1, 결과2를 각각의 변수에 할당하고 싶으면\n",
        "- 변수1, 변수2 = 함수이름(인수) 로 하면된다. 변수1 = 결과1, 변수2 = 결과2로 저장될 것."
      ]
    },
    {
      "cell_type": "code",
      "metadata": {
        "id": "Fritq-iKxhFx"
      },
      "source": [
        "def add_and_mul(a,b): \n",
        "...     return a+b, a*b"
      ],
      "execution_count": 35,
      "outputs": []
    },
    {
      "cell_type": "code",
      "metadata": {
        "id": "cEGMTxK22Rfu"
      },
      "source": [
        "a,b = add_and_mul(4,7)"
      ],
      "execution_count": 36,
      "outputs": []
    },
    {
      "cell_type": "code",
      "metadata": {
        "colab": {
          "base_uri": "https://localhost:8080/"
        },
        "id": "Hbm5S-D22Q83",
        "outputId": "d07a79e7-98b4-49dd-e433-0976bce7d10e"
      },
      "source": [
        "print(a)\n",
        "print(b)"
      ],
      "execution_count": 37,
      "outputs": [
        {
          "output_type": "stream",
          "text": [
            "11\n",
            "28\n"
          ],
          "name": "stdout"
        }
      ]
    },
    {
      "cell_type": "markdown",
      "metadata": {
        "id": "uJri4UQW2mZ-"
      },
      "source": [
        "### return의 다른 쓰임\n",
        "-\n",
        "- 특별한 상황일 때 함수를 빠져나가고 싶다면 return을 단독으로 써서 함수를 즉시 빠져나갈 수 있다.\n",
        "- "
      ]
    },
    {
      "cell_type": "code",
      "metadata": {
        "id": "nCOJLm502ZAV"
      },
      "source": [
        "def say_nick(nick): \n",
        "     if nick == \"바보\": \n",
        "         return \n",
        "     print(\"나의 별명은 %s 입니다.\" % nick)"
      ],
      "execution_count": 38,
      "outputs": []
    },
    {
      "cell_type": "code",
      "metadata": {
        "colab": {
          "base_uri": "https://localhost:8080/"
        },
        "id": "UqgAZGp92_1k",
        "outputId": "8aecc211-b48e-40cc-9708-0a82979f1453"
      },
      "source": [
        "say_nick(\"멍청이\")"
      ],
      "execution_count": 39,
      "outputs": [
        {
          "output_type": "stream",
          "text": [
            "나의 별명은 멍청이 입니다.\n"
          ],
          "name": "stdout"
        }
      ]
    },
    {
      "cell_type": "code",
      "metadata": {
        "id": "68sRakMf3GPT"
      },
      "source": [
        "say_nick(\"바보\")"
      ],
      "execution_count": 40,
      "outputs": []
    },
    {
      "cell_type": "markdown",
      "metadata": {
        "id": "IoYrV5_JFk-X"
      },
      "source": [
        "### lambda!! \n",
        "- 함수를 사용하지 않아도 될 정도로 간결한 함수이거나,\n",
        "- 함수 def를 사용할 수 없는 경우에 사용한다\n",
        "\n",
        "- lambda 매개변수1, 매개변수2, ... : 매개변수를 이용한 표현식 으로 사용한다.\n",
        "- return 명령어가 없어도 결과값을 반환한다."
      ]
    },
    {
      "cell_type": "code",
      "metadata": {
        "id": "hAkRGemgGcLg"
      },
      "source": [
        ""
      ],
      "execution_count": null,
      "outputs": []
    },
    {
      "cell_type": "code",
      "metadata": {
        "id": "_oV7ks3n3I2M"
      },
      "source": [
        ""
      ],
      "execution_count": null,
      "outputs": []
    },
    {
      "cell_type": "markdown",
      "metadata": {
        "id": "3o9WQS_gGcoq"
      },
      "source": [
        "## 사용자 입력, 출력\n",
        "-\n",
        "- 입력 >> input() 함수 사용.\n",
        "- 출력 >> print() 함수 사용."
      ]
    },
    {
      "cell_type": "markdown",
      "metadata": {
        "id": "N-5haODNGl4-"
      },
      "source": [
        "### input()\n",
        "-\n",
        "- input()은 입력된 모든 값을 문자열로 취급한다.\n",
        "- 변수 = input()으로 변수에 문자열 입력가능.\n",
        "- input(\"변수를 입력하세요 : \") 와 같이 입력하기 전 띄워질 문자열도 넣을 수 있다."
      ]
    },
    {
      "cell_type": "code",
      "metadata": {
        "colab": {
          "base_uri": "https://localhost:8080/"
        },
        "id": "_mBTYQDQGlMh",
        "outputId": "87165b40-a67d-4b8e-8962-4a467eac296b"
      },
      "source": [
        "a = input(\"변수를 입력하세요 : \")"
      ],
      "execution_count": 44,
      "outputs": [
        {
          "output_type": "stream",
          "text": [
            "변수를 입력하세요 : taeinee babo\n"
          ],
          "name": "stdout"
        }
      ]
    },
    {
      "cell_type": "code",
      "metadata": {
        "colab": {
          "base_uri": "https://localhost:8080/"
        },
        "id": "W8cNjckEHEA7",
        "outputId": "bbe0b1f9-deab-4817-cc95-d6bc25c8950e"
      },
      "source": [
        "print(a)"
      ],
      "execution_count": 45,
      "outputs": [
        {
          "output_type": "stream",
          "text": [
            "taeinee babo\n"
          ],
          "name": "stdout"
        }
      ]
    },
    {
      "cell_type": "markdown",
      "metadata": {
        "id": "M-KhL26gHQcL"
      },
      "source": [
        "### print()\n",
        "-\n",
        "- 큰따옴표(\")로 둘러싸인 문자열은 + 연산과 동일하다\n",
        "- 문자열 띄어쓰기는 콤마로 한다.\n",
        "- 한 줄에 결괏값 출력하기 ->> 한 줄에 결괏값을 계속 이어서 출력하려면 매개변수 end를 사용해 끝 문자를 지정해야 한다."
      ]
    },
    {
      "cell_type": "code",
      "metadata": {
        "colab": {
          "base_uri": "https://localhost:8080/"
        },
        "id": "7G-AcsHpHKEW",
        "outputId": "417f6d83-a553-4625-8ca1-8eef1ef724aa"
      },
      "source": [
        "print(\"taein\" \"is\" \"babo\")"
      ],
      "execution_count": 47,
      "outputs": [
        {
          "output_type": "stream",
          "text": [
            "taeinisbabo\n"
          ],
          "name": "stdout"
        }
      ]
    },
    {
      "cell_type": "code",
      "metadata": {
        "colab": {
          "base_uri": "https://localhost:8080/"
        },
        "id": "O3ToKETPHoQ5",
        "outputId": "2f41b342-c765-42b7-ddcb-7285bdd2f8d4"
      },
      "source": [
        "print(\"taein\",\"is\",\"babo\")"
      ],
      "execution_count": 48,
      "outputs": [
        {
          "output_type": "stream",
          "text": [
            "taein is babo\n"
          ],
          "name": "stdout"
        }
      ]
    },
    {
      "cell_type": "code",
      "metadata": {
        "colab": {
          "base_uri": "https://localhost:8080/"
        },
        "id": "eGK1tPZiHs6b",
        "outputId": "03002c23-4283-4f21-8c4b-ca035c2edb93"
      },
      "source": [
        "for i in range(10) : \n",
        "  print(i*i, end = ' ')"
      ],
      "execution_count": 50,
      "outputs": [
        {
          "output_type": "stream",
          "text": [
            "0 1 4 9 16 25 36 49 64 81 "
          ],
          "name": "stdout"
        }
      ]
    },
    {
      "cell_type": "code",
      "metadata": {
        "colab": {
          "base_uri": "https://localhost:8080/"
        },
        "id": "nKOK0gbGHz2n",
        "outputId": "7fb0c9d8-b66d-4e79-dcd1-c58bb00ecb3e"
      },
      "source": [
        "for i in range(10) : \n",
        "  print(i*i)"
      ],
      "execution_count": 51,
      "outputs": [
        {
          "output_type": "stream",
          "text": [
            "0\n",
            "1\n",
            "4\n",
            "9\n",
            "16\n",
            "25\n",
            "36\n",
            "49\n",
            "64\n",
            "81\n"
          ],
          "name": "stdout"
        }
      ]
    },
    {
      "cell_type": "code",
      "metadata": {
        "colab": {
          "base_uri": "https://localhost:8080/"
        },
        "id": "deLNYz4jH6gP",
        "outputId": "cf34a679-1825-4841-e291-85a9487a7575"
      },
      "source": [
        "for i in range(10) : \n",
        "  print(i*i, end = '/')"
      ],
      "execution_count": 52,
      "outputs": [
        {
          "output_type": "stream",
          "text": [
            "0/1/4/9/16/25/36/49/64/81/"
          ],
          "name": "stdout"
        }
      ]
    },
    {
      "cell_type": "code",
      "metadata": {
        "colab": {
          "base_uri": "https://localhost:8080/"
        },
        "id": "8wd-SRZDH91T",
        "outputId": "c0dd4be7-44c5-44b1-d848-d2e84e1f3a93"
      },
      "source": [
        "for i in range(10) : \n",
        "  print(i*i, end = \",\")"
      ],
      "execution_count": 54,
      "outputs": [
        {
          "output_type": "stream",
          "text": [
            "0,1,4,9,16,25,36,49,64,81,"
          ],
          "name": "stdout"
        }
      ]
    },
    {
      "cell_type": "code",
      "metadata": {
        "id": "TXgfNs0SH_gj"
      },
      "source": [
        ""
      ],
      "execution_count": null,
      "outputs": []
    }
  ]
}